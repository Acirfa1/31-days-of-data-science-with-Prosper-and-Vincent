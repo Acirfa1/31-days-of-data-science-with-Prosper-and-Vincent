{
 "cells": [
  {
   "cell_type": "markdown",
   "id": "6342946c",
   "metadata": {},
   "source": [
    "# AUTO INCREMENTING KEYS USING SQLite"
   ]
  },
  {
   "cell_type": "code",
   "execution_count": 8,
   "id": "bd8a5059",
   "metadata": {},
   "outputs": [],
   "source": [
    "import sqlite3 as sqlite\n",
    "\n",
    "connection = sqlite.connect(\"schools.db\") #.db is essential when creating a Sqlite\n",
    "\n",
    "connection.execute(\"CREATE TABLE FACULTY_OF_SOCIAL_SCENCES (number INTEGER PRIMARY KEY AUTOINCREMENT,name TEXT,age INT, mat_no TEXT, state_of_origin TEXT, department TEXT, gender TEXT)\")\n",
    "\n",
    "connection.close()"
   ]
  },
  {
   "cell_type": "code",
   "execution_count": 13,
   "id": "b6258fc3",
   "metadata": {},
   "outputs": [
    {
     "name": "stdout",
     "output_type": "stream",
     "text": [
      "Enter your name: Promise\n",
      "Enter your age: 35\n",
      "Input your matriculation number: U2019/6010010\n",
      "Enter your state of origin: Rivers State\n",
      "Enter your department: GEM\n",
      "Input your gender: Male\n"
     ]
    }
   ],
   "source": [
    "connection = sqlite.connect(\"schools.db\")\n",
    "\n",
    "name = input(\"Enter your name: \")\n",
    "age = int(input(\"Enter your age: \"))\n",
    "mat_number = input(\"Input your matriculation number: \")\n",
    "state_of_origin = input(\"Enter your state of origin: \")\n",
    "department = input(\"Enter your department: \")\n",
    "gender = input(\"Input your gender: \")\n",
    "\n",
    "connection.execute(\"INSERT INTO FACULTY_OF_SOCIAL_SCENCES(name,age,mat_no,state_of_origin,department, gender) VALUES(?,?,?,?,?,?)\",(name,age,mat_number,state_of_origin,department,gender))\n",
    "connection.commit()\n",
    "connection.close()"
   ]
  },
  {
   "cell_type": "code",
   "execution_count": 14,
   "id": "56433ad0",
   "metadata": {},
   "outputs": [
    {
     "name": "stdout",
     "output_type": "stream",
     "text": [
      "<sqlite3.Cursor object at 0x000001B3378E52C0>\n",
      "(1, 'Ashley', 25, 'U2020/301003', 'Lagos State', 'Pol Science', 'Female')\n",
      "(2, 'Promise', 35, 'U2019/6010010', 'Rivers State', 'GEM', 'Male')\n"
     ]
    }
   ],
   "source": [
    "# This is to see the contents in the file created\n",
    "connection = sqlite.connect(\"schools.db\")\n",
    "\n",
    "curs = connection.cursor()\n",
    "\n",
    "content = curs.execute(\"SELECT * FROM FACULTY_OF_SOCIAL_SCENCES\")\n",
    "# SInce this print content didnt work, we are trying to use a for loop to print the content of thefile\n",
    "print(content)\n",
    "\n",
    "for record in content:\n",
    "    print(record)\n",
    "\n",
    "connection.close()"
   ]
  },
  {
   "cell_type": "code",
   "execution_count": null,
   "id": "ef3dced7",
   "metadata": {},
   "outputs": [],
   "source": []
  }
 ],
 "metadata": {
  "kernelspec": {
   "display_name": "Python 3 (ipykernel)",
   "language": "python",
   "name": "python3"
  },
  "language_info": {
   "codemirror_mode": {
    "name": "ipython",
    "version": 3
   },
   "file_extension": ".py",
   "mimetype": "text/x-python",
   "name": "python",
   "nbconvert_exporter": "python",
   "pygments_lexer": "ipython3",
   "version": "3.11.4"
  }
 },
 "nbformat": 4,
 "nbformat_minor": 5
}
