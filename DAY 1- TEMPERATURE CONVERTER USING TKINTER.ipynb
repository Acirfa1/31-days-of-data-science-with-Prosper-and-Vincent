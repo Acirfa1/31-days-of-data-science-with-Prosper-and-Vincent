{
 "cells": [
  {
   "cell_type": "markdown",
   "id": "6313e7c3",
   "metadata": {},
   "source": [
    "# TEMPERATURE CONVERTER"
   ]
  },
  {
   "cell_type": "code",
   "execution_count": 1,
   "id": "e42dc743",
   "metadata": {},
   "outputs": [],
   "source": [
    "from tkinter import *\n",
    "import tkinter as tk\n",
    "\n",
    "def fahrenhet_converter():\n",
    "    label6.config(text=\" \"+str(((var1.get()-32)*5)/9)+ \"°C\")\n",
    "\n",
    "def celsius_converter():\n",
    "    label7.config(text=\" \" +str(var2.get() * 1.8 + 32)+ \"°F\")#°°\n",
    "    \n",
    "root = tk.Tk()\n",
    "root.title(\"Temperature Converter\")\n",
    "\n",
    "var1 = DoubleVar()\n",
    "var2 = DoubleVar()\n",
    "\n",
    "label1 = Label(root, text=\"TEMPERATURE CONVERTER\",  font=(\"Arial\",35))\n",
    "label1.pack(side=TOP)\n",
    "\n",
    "label2 =Label(root, text=\"Temperature in Fahrenheit =\", font=(\"Arial\",25))\n",
    "label2.place(x=200, y=200)\n",
    "\n",
    "label3 = Label(root,text=\"Temperature in Celsius =\", font=(\"Arial\",25))\n",
    "label3.place(x=200, y=300)\n",
    "\n",
    "\n",
    "\n",
    "entry1 = Entry(root, font=(\"Arial\",25), textvariable= var1)\n",
    "entry1.place(x=650, y=200)\n",
    "\n",
    "entry2 = Entry(root, font=(\"Arial\",25),textvariable= var2)\n",
    "entry2.place(x=650, y=400)\n",
    "\n",
    "\n",
    "button1= Button(root, text=\"Convert\",  font=(\"Arial\",25),command=fahrenhet_converter)\n",
    "button1.place(x=1100,y=200)\n",
    "\n",
    "button2= Button(root, text=\"Convert\", font=(\"Arial\",25),command=celsius_converter)\n",
    "button2.place(x=1100,y=400)\n",
    "\n",
    "\n",
    "label4 = Label(root, text=\"Temperature in Celsius\",  font=(\"Arial\",25))\n",
    "label4.place(x=200, y=400)\n",
    "\n",
    "label5 =Label(root, text=\"Temperature in Fahrenheit =\", font=(\"Arial\",25))\n",
    "label5.place(x=200, y=500)\n",
    "\n",
    "label6 =Label(root, font=(\"Arial\",25))\n",
    "label6.place(x=600, y=300)\n",
    " \n",
    "label7 =Label(root, font=(\"Arial\",25))\n",
    "label7.place(x=600, y=500)\n",
    " \n",
    "\n",
    "root.mainloop()\n"
   ]
  },
  {
   "cell_type": "code",
   "execution_count": null,
   "id": "b878ada6",
   "metadata": {},
   "outputs": [],
   "source": []
  }
 ],
 "metadata": {
  "kernelspec": {
   "display_name": "Python 3 (ipykernel)",
   "language": "python",
   "name": "python3"
  },
  "language_info": {
   "codemirror_mode": {
    "name": "ipython",
    "version": 3
   },
   "file_extension": ".py",
   "mimetype": "text/x-python",
   "name": "python",
   "nbconvert_exporter": "python",
   "pygments_lexer": "ipython3",
   "version": "3.11.4"
  }
 },
 "nbformat": 4,
 "nbformat_minor": 5
}
